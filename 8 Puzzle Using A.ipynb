{
 "cells": [
  {
   "cell_type": "code",
   "execution_count": 1,
   "metadata": {},
   "outputs": [
    {
     "name": "stdout",
     "output_type": "stream",
     "text": [
      "15\n"
     ]
    },
    {
     "data": {
      "text/plain": [
       "[[[2, 8, 3], [1, 0, 4], [7, 6, 5]],\n",
       " [[2, 0, 3], [1, 8, 4], [7, 6, 5]],\n",
       " [[0, 2, 3], [1, 8, 4], [7, 6, 5]],\n",
       " [[1, 2, 3], [0, 8, 4], [7, 6, 5]],\n",
       " [[1, 2, 3], [8, 0, 4], [7, 6, 5]]]"
      ]
     },
     "execution_count": 1,
     "metadata": {},
     "output_type": "execute_result"
    }
   ],
   "source": [
    "start = [[2,8,3],[1,6,4],[7,0,5]]\n",
    "end = [[1,2,3],[8,0,4],[7,6,5]]\n",
    "import copy\n",
    "def misplaced(state,end):\n",
    "  m,n = len(state),len(end)\n",
    "  h = 0\n",
    "  for i in range(m):\n",
    "    for j in range(n):\n",
    "      if state[i][j] != end[i][j]:\n",
    "        h += 1\n",
    "  return h\n",
    "def findij(state):\n",
    "  i,j = 0,0\n",
    "  for i in range(len(state)):\n",
    "    for j in range(len(state[i])):\n",
    "      if state[i][j] == 0:\n",
    "        return i,j\n",
    "current_node = copy.deepcopy(start)\n",
    "visited = []\n",
    "path = []\n",
    "k = 0\n",
    "cost = 0\n",
    "while True:\n",
    "  k+=1\n",
    "  i,j = findij(current_node)\n",
    "  temp = copy.deepcopy(current_node)\n",
    "  children = []\n",
    "  #left operation\n",
    "  if j!=0:\n",
    "    temp[i][j],temp[i][j-1] = temp[i][j-1],temp[i][j]\n",
    "    children.append([misplaced(temp,end)+k,temp])\n",
    "    temp = copy.deepcopy(current_node)\n",
    "  #right operation\n",
    "  if j!= len(start)-1:\n",
    "    temp[i][j],temp[i][j+1] = temp[i][j+1],temp[i][j]\n",
    "    children.append([misplaced(temp,end)+k,temp])\n",
    "    temp = copy.deepcopy(current_node)\n",
    "  #top operation\n",
    "  if i!=0:\n",
    "    temp[i-1][j],temp[i][j] = temp[i][j],temp[i-1][j]\n",
    "    children.append([misplaced(temp,end)+k,temp])\n",
    "    temp = copy.deepcopy(current_node)\n",
    "  #down operation\n",
    "  if i!=len(start)-1:\n",
    "    temp[i+1][j],temp[i][j] = temp[i][j],temp[i+1][j]\n",
    "    children.append([misplaced(temp,end)+k,temp])\n",
    "    temp = copy.deepcopy(current_node)\n",
    "  children.sort()\n",
    "  if current_node == end:\n",
    "    break\n",
    "  cost += k\n",
    "  current_node = children[0][-1]\n",
    "  path.append(current_node) \n",
    "print(cost)\n",
    "path"
   ]
  }
 ],
 "metadata": {
  "kernelspec": {
   "display_name": "Python 3",
   "language": "python",
   "name": "python3"
  },
  "language_info": {
   "codemirror_mode": {
    "name": "ipython",
    "version": 3
   },
   "file_extension": ".py",
   "mimetype": "text/x-python",
   "name": "python",
   "nbconvert_exporter": "python",
   "pygments_lexer": "ipython3",
   "version": "3.8.5"
  }
 },
 "nbformat": 4,
 "nbformat_minor": 4
}
